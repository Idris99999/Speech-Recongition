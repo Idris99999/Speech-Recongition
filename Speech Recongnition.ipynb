{
 "cells": [
  {
   "cell_type": "code",
   "execution_count": 16,
   "metadata": {},
   "outputs": [
    {
     "name": "stdout",
     "output_type": "stream",
     "text": [
      "Adjusting noise \n",
      "Recording for 4 seconds\n",
      "Done recording\n",
      "Recognizing...\n",
      "Unable to recognize speech\n",
      "Recognized Text: hi hello what's my name\n"
     ]
    }
   ],
   "source": [
    "import speech_recognition as sr\n",
    "\n",
    "# Create a recognizer instance\n",
    "recognizer = sr.Recognizer()\n",
    "\n",
    "# Use the default microphone as the audio source\n",
    "with sr.Microphone() as source:\n",
    "    print(\"Adjusting noise \")\n",
    "    recognizer.adjust_for_ambient_noise(source, duration=1)\n",
    "    print(\"Recording for 4 seconds\")\n",
    "    recorded_audio = recognizer.listen(source, timeout=4)\n",
    "    print(\"Done recording\")\n",
    "    \n",
    "\n",
    "    # Adjust the microphone for ambient noise\n",
    "    recognizer.adjust_for_ambient_noise(source)\n",
    "\n",
    "    # Capture the audio input from the microphone\n",
    "    audio = recognizer.listen(source)\n",
    "\n",
    "    print(\"Recognizing...\")\n",
    "\n",
    "    # Perform speech recognition\n",
    "    try:\n",
    "        text = recognizer.recognize_google(audio, language='en-US')\n",
    "        print(\"Your voice have been recongized: \" + text)\n",
    "    except sr.UnknownValueError:\n",
    "        print(\"Unable to recognize speech\")\n",
    "    except sr.RequestError as e:\n",
    "        print(\"Error occurred: {0}\".format(e))\n",
    "\n",
    "    print(\"Recognized Text: \" + text)\n"
   ]
  },
  {
   "cell_type": "code",
   "execution_count": null,
   "metadata": {},
   "outputs": [],
   "source": []
  },
  {
   "cell_type": "code",
   "execution_count": null,
   "metadata": {},
   "outputs": [],
   "source": []
  }
 ],
 "metadata": {
  "kernelspec": {
   "display_name": "Python 3",
   "language": "python",
   "name": "python3"
  },
  "language_info": {
   "codemirror_mode": {
    "name": "ipython",
    "version": 3
   },
   "file_extension": ".py",
   "mimetype": "text/x-python",
   "name": "python",
   "nbconvert_exporter": "python",
   "pygments_lexer": "ipython3",
   "version": "3.10.6"
  },
  "orig_nbformat": 4
 },
 "nbformat": 4,
 "nbformat_minor": 2
}
